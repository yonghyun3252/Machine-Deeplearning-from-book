{
 "cells": [
  {
   "cell_type": "markdown",
   "id": "b900f2ce",
   "metadata": {},
   "source": [
    "# 패션 MNIST 데이터셋을 이용"
   ]
  },
  {
   "cell_type": "code",
   "execution_count": 1,
   "id": "971af5a6",
   "metadata": {},
   "outputs": [],
   "source": [
    "from tensorflow import keras\n",
    "(train_input, train_target), (test_input, test_target) = keras.datasets.fashion_mnist.load_data()"
   ]
  },
  {
   "cell_type": "code",
   "execution_count": 2,
   "id": "f4efdc4e",
   "metadata": {},
   "outputs": [
    {
     "name": "stdout",
     "output_type": "stream",
     "text": [
      "(60000, 28, 28) (60000,)\n",
      "(10000, 28, 28) (10000,)\n"
     ]
    }
   ],
   "source": [
    "print(train_input.shape, train_target.shape)\n",
    "print(test_input.shape, test_target.shape)"
   ]
  },
  {
   "cell_type": "code",
   "execution_count": 3,
   "id": "9654e2ed",
   "metadata": {},
   "outputs": [
    {
     "name": "stderr",
     "output_type": "stream",
     "text": [
      "Duplicate key in file '/Users/yonghyunpark/.matplotlib/matplotlibrc', line 2 ('backend: TkAgg')\n"
     ]
    },
    {
     "data": {
      "image/png": "[encoded data removed]",
      "text/plain": [
       "<Figure size 720x720 with 10 Axes>"
      ]
     },
     "metadata": {
      "needs_background": "light"
     },
     "output_type": "display_data"
    }
   ],
   "source": [
    "import matplotlib.pyplot as plt\n",
    "fig, axs = plt.subplots(1,10, figsize=(10,10))\n",
    "for i in range(10):\n",
    "    axs[i].imshow(train_input[i], cmap='gray_r')\n",
    "    axs[i].axis('off')\n",
    "plt.show()"
   ]
  },
  {
   "cell_type": "code",
   "execution_count": 4,
   "id": "933d455e",
   "metadata": {},
   "outputs": [
    {
     "name": "stdout",
     "output_type": "stream",
     "text": [
      "[9, 0, 0, 3, 0, 2, 7, 2, 5, 5]\n"
     ]
    }
   ],
   "source": [
    "print([train_target[i] for i in range(10)])"
   ]
  },
  {
   "cell_type": "code",
   "execution_count": 5,
   "id": "60b1f1a9",
   "metadata": {},
   "outputs": [
    {
     "name": "stdout",
     "output_type": "stream",
     "text": [
      "(array([0, 1, 2, 3, 4, 5, 6, 7, 8, 9], dtype=uint8), array([6000, 6000, 6000, 6000, 6000, 6000, 6000, 6000, 6000, 6000]))\n"
     ]
    }
   ],
   "source": [
    "## 각 레이블 당 샘플 개수\n",
    "import numpy as np\n",
    "print(np.unique(train_target, return_counts=True))"
   ]
  },
  {
   "cell_type": "markdown",
   "id": "e455f120",
   "metadata": {},
   "source": [
    "### 로지스틱 회귀로 패션 아이템 분류\n",
    "- SGDClassifier 이용\n",
    "- 각 샘플을 1차원 배열로 만들어야한다."
   ]
  },
  {
   "cell_type": "code",
   "execution_count": 6,
   "id": "5898ee11",
   "metadata": {},
   "outputs": [],
   "source": [
    "train_scaled = train_input / 255.0\n",
    "train_scaled = train_scaled.reshape(-1, 28*28)"
   ]
  },
  {
   "cell_type": "code",
   "execution_count": 7,
   "id": "c05f8e13",
   "metadata": {},
   "outputs": [
    {
     "name": "stdout",
     "output_type": "stream",
     "text": [
      "(60000, 784)\n"
     ]
    }
   ],
   "source": [
    "print(train_scaled.shape)"
   ]
  },
  {
   "cell_type": "code",
   "execution_count": 8,
   "id": "9f32ade7",
   "metadata": {},
   "outputs": [
    {
     "name": "stdout",
     "output_type": "stream",
     "text": [
      "0.8192833333333333\n"
     ]
    }
   ],
   "source": [
    "# SGDClassifier 클래스와 cross_validate함수를 이용하여 교차검증으로 성능확인\n",
    "from sklearn.model_selection import cross_validate\n",
    "from sklearn.linear_model import SGDClassifier\n",
    "sc = SGDClassifier(loss='log', max_iter=5, random_state=42)\n",
    "scores = cross_validate(sc, train_scaled, train_target, n_jobs=-1)\n",
    "print(np.mean(scores['test_score']))"
   ]
  },
  {
   "cell_type": "markdown",
   "id": "bf37ebf1",
   "metadata": {},
   "source": [
    "### 인공신경망"
   ]
  },
  {
   "cell_type": "markdown",
   "id": "e8c8c100",
   "metadata": {},
   "source": [
    "- Tensorflow & Keras"
   ]
  },
  {
   "cell_type": "code",
   "execution_count": 9,
   "id": "99ed5e66",
   "metadata": {},
   "outputs": [],
   "source": [
    "import tensorflow as tf\n",
    "from tensorflow import keras"
   ]
  },
  {
   "cell_type": "markdown",
   "id": "ccc2dcb0",
   "metadata": {},
   "source": [
    "### 인공 신경망으로 모델만들기"
   ]
  },
  {
   "cell_type": "markdown",
   "id": "0ffa4c94",
   "metadata": {},
   "source": [
    "- 인공 신경망에서는 교차 검증을 잘 사용하지 않고 검증 세트를 별도로 덜어내어 사용\n",
    "\n",
    "Why?\n",
    "\n",
    "1. 데이터셋은 충분히 크기 때문에 검증 점수가 안정적\n",
    "2. 훈련시간이 오래걸린다."
   ]
  },
  {
   "cell_type": "code",
   "execution_count": 10,
   "id": "b1b0e00c",
   "metadata": {},
   "outputs": [],
   "source": [
    "from sklearn.model_selection import train_test_split\n",
    "train_scaled, val_scaled, train_target, val_target = train_test_split(\n",
    "    train_scaled, train_target, test_size = 0.2, random_state=42\n",
    ")"
   ]
  },
  {
   "cell_type": "code",
   "execution_count": 11,
   "id": "ae32888c",
   "metadata": {},
   "outputs": [
    {
     "name": "stdout",
     "output_type": "stream",
     "text": [
      "(48000, 784) (48000,)\n",
      "(12000, 784) (12000,)\n"
     ]
    }
   ],
   "source": [
    "print(train_scaled.shape, train_target.shape)\n",
    "print(val_scaled.shape, val_target.shape)"
   ]
  },
  {
   "cell_type": "markdown",
   "id": "17f96374",
   "metadata": {},
   "source": [
    "- 먼저 train세트로 모델을 만들고 다음, val셋으로 훈련한 모델을 평가"
   ]
  },
  {
   "cell_type": "code",
   "execution_count": 12,
   "id": "3c2b45f5",
   "metadata": {},
   "outputs": [],
   "source": [
    "## 10개의 패션아이템분류, 출력되는 값 확률로 바꾸기==softmax\n",
    "dense = keras.layers.Dense(10, activation='softmax', input_shape=(784,))"
   ]
  },
  {
   "cell_type": "code",
   "execution_count": 13,
   "id": "a540a7ca",
   "metadata": {},
   "outputs": [
    {
     "name": "stdout",
     "output_type": "stream",
     "text": [
      "WARNING:tensorflow:From /Users/yonghyunpark/opt/anaconda3/envs/deeplearning/lib/python3.7/site-packages/tensorflow_core/python/ops/resource_variable_ops.py:1630: calling BaseResourceVariable.__init__ (from tensorflow.python.ops.resource_variable_ops) with constraint is deprecated and will be removed in a future version.\n",
      "Instructions for updating:\n",
      "If using Keras pass *_constraint arguments to layers.\n"
     ]
    }
   ],
   "source": [
    "## Sequential 클래스 객체를 만들 때 밀집층의 객체 dense를 전달\n",
    "model = keras.Sequential(dense)"
   ]
  },
  {
   "cell_type": "markdown",
   "id": "15abc1ae",
   "metadata": {},
   "source": [
    "### 인공 신경망으로 패션 아이템 분류"
   ]
  },
  {
   "cell_type": "code",
   "execution_count": 14,
   "id": "6b31d2a3",
   "metadata": {},
   "outputs": [],
   "source": [
    "## 이진분류 : loss='binary_crossentropy'\n",
    "## 다중분류 : loss='categorical_crossentropy'\n",
    "model.compile(loss='sparse_categorical_crossentropy', metrics=['accuracy'])"
   ]
  },
  {
   "cell_type": "markdown",
   "id": "7ffc4661",
   "metadata": {},
   "source": [
    "- 다중분류에서 cross entropy 손실 함수를 사용하려면 정수타깃값을 원-핫 인코딩으로 변환해야한다."
   ]
  },
  {
   "cell_type": "code",
   "execution_count": 15,
   "id": "5e8a6ea2",
   "metadata": {},
   "outputs": [
    {
     "name": "stdout",
     "output_type": "stream",
     "text": [
      "[7 3 5 8 6 9 3 3 9 9]\n"
     ]
    }
   ],
   "source": [
    "print(train_target[:10])"
   ]
  },
  {
   "cell_type": "markdown",
   "id": "5ac7251b",
   "metadata": {},
   "source": [
    "- Tensorflow에서는 원핫인코딩으로 바꾸지않고도 그냥 사용가능 (sparse_categorical_crossentropy)\n",
    "- 타깃값을 원-핫 인코딩으로 준비했으면 loss = 'categorical_crossentropy' 로 지정"
   ]
  },
  {
   "cell_type": "code",
   "execution_count": 16,
   "id": "7fc38053",
   "metadata": {},
   "outputs": [
    {
     "name": "stdout",
     "output_type": "stream",
     "text": [
      "Train on 48000 samples\n",
      "Epoch 1/5\n",
      "48000/48000 [==============================] - 3s 62us/sample - loss: 0.6074 - acc: 0.7941\n",
      "Epoch 2/5\n",
      "48000/48000 [==============================] - 3s 57us/sample - loss: 0.4779 - acc: 0.8403\n",
      "Epoch 3/5\n",
      "48000/48000 [==============================] - 3s 58us/sample - loss: 0.4550 - acc: 0.8488\n",
      "Epoch 4/5\n",
      "48000/48000 [==============================] - 3s 64us/sample - loss: 0.4440 - acc: 0.8511\n",
      "Epoch 5/5\n",
      "48000/48000 [==============================] - 3s 60us/sample - loss: 0.4358 - acc: 0.8549\n"
     ]
    },
    {
     "data": {
      "text/plain": [
       "<tensorflow.python.keras.callbacks.History at 0x7f8241a07198>"
      ]
     },
     "execution_count": 16,
     "metadata": {},
     "output_type": "execute_result"
    }
   ],
   "source": [
    "model.fit(train_scaled, train_target, epochs=5)"
   ]
  },
  {
   "cell_type": "markdown",
   "id": "b173ea97",
   "metadata": {},
   "source": [
    "- 이제 검증셋(val_scaled, val_target) 에서 모델의 성능을 확인\n",
    "- evaluate()"
   ]
  },
  {
   "cell_type": "code",
   "execution_count": 17,
   "id": "158ea298",
   "metadata": {},
   "outputs": [
    {
     "name": "stdout",
     "output_type": "stream",
     "text": [
      "Train on 12000 samples\n",
      "12000/12000 [==============================] - 1s 62us/sample - loss: 0.4526 - acc: 0.8462\n"
     ]
    },
    {
     "data": {
      "text/plain": [
       "<tensorflow.python.keras.callbacks.History at 0x7f8241a8d7b8>"
      ]
     },
     "execution_count": 17,
     "metadata": {},
     "output_type": "execute_result"
    }
   ],
   "source": [
    "model.fit(val_scaled, val_target)"
   ]
  },
  {
   "cell_type": "code",
   "execution_count": 18,
   "id": "b4a8bdbf",
   "metadata": {},
   "outputs": [
    {
     "name": "stdout",
     "output_type": "stream",
     "text": [
      "12000/12000 [==============================] - 0s 41us/sample - loss: 0.4339 - acc: 0.8553\n"
     ]
    },
    {
     "data": {
      "text/plain": [
       "[0.43390325395266216, 0.8553333]"
      ]
     },
     "execution_count": 18,
     "metadata": {},
     "output_type": "execute_result"
    }
   ],
   "source": [
    "model.evaluate(val_scaled, val_target)"
   ]
  },
  {
   "cell_type": "markdown",
   "id": "4b4bb0d5",
   "metadata": {},
   "source": [
    "# 심층 신경망"
   ]
  },
  {
   "cell_type": "markdown",
   "id": "4198007e",
   "metadata": {},
   "source": [
    "### 2개의 층"
   ]
  },
  {
   "cell_type": "code",
   "execution_count": 19,
   "id": "b36d9ab7",
   "metadata": {},
   "outputs": [],
   "source": [
    "from tensorflow import keras\n",
    "(train_input, train_target),(test_input, test_target) = keras.datasets.fashion_mnist.load_data()"
   ]
  },
  {
   "cell_type": "code",
   "execution_count": 20,
   "id": "e87919e4",
   "metadata": {},
   "outputs": [],
   "source": [
    "from sklearn.model_selection import train_test_split\n",
    "train_scaled = train_input/255\n",
    "train_scaled = train_scaled.reshape(-1, 28*28)\n",
    "train_scaled, val_scaled, train_target,val_target = train_test_split(\n",
    "    train_scaled, train_target, test_size=0.2, random_state=42\n",
    ")"
   ]
  },
  {
   "cell_type": "markdown",
   "id": "1013b83b",
   "metadata": {},
   "source": [
    "활성화 함수를 사용한 은닉층과 소프트맥스 함수를 사용한 출력층을 Dense 클래스로"
   ]
  },
  {
   "cell_type": "code",
   "execution_count": 21,
   "id": "fb18337d",
   "metadata": {},
   "outputs": [],
   "source": [
    "dense1 = keras.layers.Dense(100, activation='sigmoid', input_shape=(784,))\n",
    "dense2 = keras.layers.Dense(10, activation='softmax') ## 10개의 클래스를 분류하므로 10개의 뉴런"
   ]
  },
  {
   "cell_type": "markdown",
   "id": "da40f89a",
   "metadata": {},
   "source": [
    "### 심층신경망 만들기"
   ]
  },
  {
   "cell_type": "code",
   "execution_count": 22,
   "id": "126e978a",
   "metadata": {},
   "outputs": [],
   "source": [
    "model = keras.Sequential([dense1, dense2])"
   ]
  },
  {
   "cell_type": "code",
   "execution_count": 23,
   "id": "2ad6fd64",
   "metadata": {},
   "outputs": [
    {
     "name": "stdout",
     "output_type": "stream",
     "text": [
      "Model: \"sequential_1\"\n",
      "_________________________________________________________________\n",
      "Layer (type)                 Output Shape              Param #   \n",
      "=================================================================\n",
      "dense_1 (Dense)              (None, 100)               78500     \n",
      "_________________________________________________________________\n",
      "dense_2 (Dense)              (None, 10)                1010      \n",
      "=================================================================\n",
      "Total params: 79,510\n",
      "Trainable params: 79,510\n",
      "Non-trainable params: 0\n",
      "_________________________________________________________________\n"
     ]
    }
   ],
   "source": [
    "model.summary() #정보를 얻을 수 있음"
   ]
  },
  {
   "cell_type": "markdown",
   "id": "911278ec",
   "metadata": {},
   "source": [
    "- (None, 100) == (batch_size, 은닉층 뉴런개수)\n",
    "- Parameters 78500 == 784*100+100 == 픽셀값 * 뉴런개수 + 절편"
   ]
  },
  {
   "cell_type": "markdown",
   "id": "01c9a259",
   "metadata": {},
   "source": [
    "### 층을 추가하는 다른 방법"
   ]
  },
  {
   "cell_type": "code",
   "execution_count": 24,
   "id": "f797fe29",
   "metadata": {},
   "outputs": [],
   "source": [
    "model = keras.Sequential([\n",
    "    keras.layers.Dense(100, activation='sigmoid', input_shape=(784,), name='hidden'),\n",
    "    keras.layers.Dense(10, activation='softmax', name='output')\n",
    "], name='fashion MNIST Model')"
   ]
  },
  {
   "cell_type": "code",
   "execution_count": 25,
   "id": "d3af2c8c",
   "metadata": {},
   "outputs": [
    {
     "name": "stdout",
     "output_type": "stream",
     "text": [
      "Model: \"fashion MNIST Model\"\n",
      "_________________________________________________________________\n",
      "Layer (type)                 Output Shape              Param #   \n",
      "=================================================================\n",
      "hidden (Dense)               (None, 100)               78500     \n",
      "_________________________________________________________________\n",
      "output (Dense)               (None, 10)                1010      \n",
      "=================================================================\n",
      "Total params: 79,510\n",
      "Trainable params: 79,510\n",
      "Non-trainable params: 0\n",
      "_________________________________________________________________\n"
     ]
    }
   ],
   "source": [
    "model.summary()"
   ]
  },
  {
   "cell_type": "code",
   "execution_count": 26,
   "id": "f4f37e69",
   "metadata": {},
   "outputs": [],
   "source": [
    "## 층 추가하는 방법\n",
    "model = keras.Sequential()\n",
    "model.add(keras.layers.Dense(100, activation='sigmoid', input_shape=(784,)))\n",
    "model.add(keras.layers.Dense(10, activation='softmax'))"
   ]
  },
  {
   "cell_type": "code",
   "execution_count": 27,
   "id": "2528d922",
   "metadata": {},
   "outputs": [
    {
     "name": "stdout",
     "output_type": "stream",
     "text": [
      "Model: \"sequential_2\"\n",
      "_________________________________________________________________\n",
      "Layer (type)                 Output Shape              Param #   \n",
      "=================================================================\n",
      "dense_3 (Dense)              (None, 100)               78500     \n",
      "_________________________________________________________________\n",
      "dense_4 (Dense)              (None, 10)                1010      \n",
      "=================================================================\n",
      "Total params: 79,510\n",
      "Trainable params: 79,510\n",
      "Non-trainable params: 0\n",
      "_________________________________________________________________\n"
     ]
    }
   ],
   "source": [
    "model.summary()"
   ]
  },
  {
   "cell_type": "markdown",
   "id": "56c7a61e",
   "metadata": {},
   "source": [
    "**모델훈련**"
   ]
  },
  {
   "cell_type": "code",
   "execution_count": 28,
   "id": "fcbfdaa5",
   "metadata": {},
   "outputs": [
    {
     "name": "stdout",
     "output_type": "stream",
     "text": [
      "Train on 48000 samples\n",
      "Epoch 1/5\n",
      "48000/48000 [==============================] - 6s 127us/sample - loss: 0.5646 - acc: 0.8067\n",
      "Epoch 2/5\n",
      "48000/48000 [==============================] - 6s 131us/sample - loss: 0.4088 - acc: 0.8525\n",
      "Epoch 3/5\n",
      "48000/48000 [==============================] - 6s 134us/sample - loss: 0.3748 - acc: 0.8650\n",
      "Epoch 4/5\n",
      "48000/48000 [==============================] - 6s 134us/sample - loss: 0.3526 - acc: 0.8719\n",
      "Epoch 5/5\n",
      "48000/48000 [==============================] - 6s 134us/sample - loss: 0.3365 - acc: 0.8781\n"
     ]
    }
   ],
   "source": [
    "model.compile(loss='sparse_categorical_crossentropy', metrics=['accuracy'])\n",
    "history = model.fit(train_scaled, train_target, epochs=5)"
   ]
  },
  {
   "cell_type": "code",
   "execution_count": 29,
   "id": "aa12c21b",
   "metadata": {},
   "outputs": [
    {
     "name": "stdout",
     "output_type": "stream",
     "text": [
      "12000/12000 [==============================] - 1s 51us/sample - loss: 0.3574 - acc: 0.8717\n"
     ]
    },
    {
     "data": {
      "text/plain": [
       "[0.35739457327127455, 0.87166667]"
      ]
     },
     "execution_count": 29,
     "metadata": {},
     "output_type": "execute_result"
    }
   ],
   "source": [
    "model.evaluate(val_scaled, val_target)"
   ]
  },
  {
   "cell_type": "code",
   "execution_count": 30,
   "id": "65c76fe5",
   "metadata": {},
   "outputs": [
    {
     "name": "stdout",
     "output_type": "stream",
     "text": [
      "{'loss': [0.5645793204903603, 0.40875049680968123, 0.3748432002961636, 0.35264510194957255, 0.33647137076656025], 'acc': [0.80672914, 0.8525417, 0.865, 0.87191665, 0.87808335]}\n"
     ]
    }
   ],
   "source": [
    "print(history.history)"
   ]
  },
  {
   "cell_type": "code",
   "execution_count": 54,
   "id": "3f0eb9b5",
   "metadata": {},
   "outputs": [
    {
     "data": {
      "image/png": "[encoded data removed]",
      "text/plain": [
       "<Figure size 432x288 with 1 Axes>"
      ]
     },
     "metadata": {
      "needs_background": "light"
     },
     "output_type": "display_data"
    },
    {
     "data": {
      "image/png": "[encoded data removed]",
      "text/plain": [
       "<Figure size 432x288 with 1 Axes>"
      ]
     },
     "metadata": {
      "needs_background": "light"
     },
     "output_type": "display_data"
    }
   ],
   "source": [
    "plt.plot(history.history['acc'])\n",
    "plt.title('Model accuracy')\n",
    "plt.xlabel('Epoch')\n",
    "plt.ylabel('Accuracy')\n",
    "plt.legend(['Train', 'Test'], loc='upper left')\n",
    "plt.show()\n",
    "\n",
    "plt.plot(history.history['loss'])\n",
    "plt.title('Model loss')\n",
    "plt.xlabel('Epoch')\n",
    "plt.ylabel('Loss')\n",
    "plt.legend(['Train', 'Test'], loc='upper right')\n",
    "plt.show()"
   ]
  },
  {
   "cell_type": "markdown",
   "id": "fec15063",
   "metadata": {},
   "source": [
    "### 렐루 함수"
   ]
  },
  {
   "cell_type": "code",
   "execution_count": 32,
   "id": "a67c0242",
   "metadata": {},
   "outputs": [],
   "source": [
    "## MNIST 데이터는 28*28 크기라서 신경망에 주입하기 위해 reshape()메소드를 사용해 1차원으로 펼침\n",
    "## keras.layers.Flatten으로 펼친다.\n",
    "model = keras.Sequential()\n",
    "model.add(keras.layers.Flatten(input_shape=(28,28)))\n",
    "model.add(keras.layers.Dense(100, activation='relu'))\n",
    "model.add(keras.layers.Dense(10, activation='softmax'))"
   ]
  },
  {
   "cell_type": "code",
   "execution_count": 33,
   "id": "4eea67c2",
   "metadata": {},
   "outputs": [
    {
     "name": "stdout",
     "output_type": "stream",
     "text": [
      "Model: \"sequential_3\"\n",
      "_________________________________________________________________\n",
      "Layer (type)                 Output Shape              Param #   \n",
      "=================================================================\n",
      "flatten (Flatten)            (None, 784)               0         \n",
      "_________________________________________________________________\n",
      "dense_5 (Dense)              (None, 100)               78500     \n",
      "_________________________________________________________________\n",
      "dense_6 (Dense)              (None, 10)                1010      \n",
      "=================================================================\n",
      "Total params: 79,510\n",
      "Trainable params: 79,510\n",
      "Non-trainable params: 0\n",
      "_________________________________________________________________\n"
     ]
    }
   ],
   "source": [
    "model.summary()"
   ]
  },
  {
   "cell_type": "code",
   "execution_count": 34,
   "id": "d803baa8",
   "metadata": {},
   "outputs": [],
   "source": [
    "## 모델 훈련\n",
    "(train_input, train_target), (test_input, test_target) = keras.datasets.fashion_mnist.load_data()\n",
    "train_scaled = train_input/255\n",
    "train_scaled, val_scaled, train_target, val_target = train_test_split(\n",
    "    train_scaled, train_target, test_size=0.2, random_state=42)"
   ]
  },
  {
   "cell_type": "code",
   "execution_count": 35,
   "id": "a3a7ea3d",
   "metadata": {},
   "outputs": [
    {
     "name": "stdout",
     "output_type": "stream",
     "text": [
      "Train on 48000 samples\n",
      "Epoch 1/5\n",
      "48000/48000 [==============================] - 6s 133us/sample - loss: 0.5299 - acc: 0.8134\n",
      "Epoch 2/5\n",
      "48000/48000 [==============================] - 7s 143us/sample - loss: 0.3937 - acc: 0.8589\n",
      "Epoch 3/5\n",
      "48000/48000 [==============================] - 7s 137us/sample - loss: 0.3547 - acc: 0.8725\n",
      "Epoch 4/5\n",
      "48000/48000 [==============================] - 7s 142us/sample - loss: 0.3328 - acc: 0.8815\n",
      "Epoch 5/5\n",
      "48000/48000 [==============================] - 6s 133us/sample - loss: 0.3199 - acc: 0.8864\n"
     ]
    },
    {
     "data": {
      "text/plain": [
       "<tensorflow.python.keras.callbacks.History at 0x7f81da43a748>"
      ]
     },
     "execution_count": 35,
     "metadata": {},
     "output_type": "execute_result"
    }
   ],
   "source": [
    "model.compile(loss='sparse_categorical_crossentropy', metrics=['acc'])\n",
    "model.fit(train_scaled, train_target, epochs = 5)"
   ]
  },
  {
   "cell_type": "code",
   "execution_count": 36,
   "id": "b92200be",
   "metadata": {},
   "outputs": [
    {
     "name": "stdout",
     "output_type": "stream",
     "text": [
      "12000/12000 [==============================] - 1s 53us/sample - loss: 0.3707 - acc: 0.8754\n"
     ]
    },
    {
     "data": {
      "text/plain": [
       "[0.3706860802968343, 0.8754167]"
      ]
     },
     "execution_count": 36,
     "metadata": {},
     "output_type": "execute_result"
    }
   ],
   "source": [
    "model.evaluate(val_scaled, val_target)"
   ]
  },
  {
   "cell_type": "markdown",
   "id": "3d822361",
   "metadata": {},
   "source": [
    "### Adam 을 이용하여 MNIST 모델 훈련"
   ]
  },
  {
   "cell_type": "code",
   "execution_count": 37,
   "id": "90933e1c",
   "metadata": {},
   "outputs": [],
   "source": [
    "model = keras.Sequential()\n",
    "model.add(keras.layers.Flatten(input_shape=(28,28)))\n",
    "model.add(keras.layers.Dense(100, activation='relu'))\n",
    "model.add(keras.layers.Dense(10, activation='softmax'))"
   ]
  },
  {
   "cell_type": "code",
   "execution_count": 38,
   "id": "1e8c9aa7",
   "metadata": {},
   "outputs": [
    {
     "name": "stdout",
     "output_type": "stream",
     "text": [
      "Train on 48000 samples\n",
      "Epoch 1/5\n",
      "48000/48000 [==============================] - 4s 82us/sample - loss: 0.5209 - acc: 0.8185\n",
      "Epoch 2/5\n",
      "48000/48000 [==============================] - 4s 78us/sample - loss: 0.3899 - acc: 0.8611\n",
      "Epoch 3/5\n",
      "48000/48000 [==============================] - 4s 83us/sample - loss: 0.3506 - acc: 0.8731\n",
      "Epoch 4/5\n",
      "48000/48000 [==============================] - 4s 76us/sample - loss: 0.3245 - acc: 0.8819\n",
      "Epoch 5/5\n",
      "48000/48000 [==============================] - 4s 77us/sample - loss: 0.3053 - acc: 0.8881\n"
     ]
    },
    {
     "data": {
      "text/plain": [
       "<tensorflow.python.keras.callbacks.History at 0x7f819a44e780>"
      ]
     },
     "execution_count": 38,
     "metadata": {},
     "output_type": "execute_result"
    }
   ],
   "source": [
    "model.compile(optimizer='adam', loss='sparse_categorical_crossentropy', metrics=['acc'])\n",
    "model.fit(train_scaled, train_target, epochs=5)"
   ]
  },
  {
   "cell_type": "code",
   "execution_count": 39,
   "id": "d34832c3",
   "metadata": {},
   "outputs": [
    {
     "name": "stdout",
     "output_type": "stream",
     "text": [
      "12000/12000 [==============================] - 1s 54us/sample - loss: 0.3436 - acc: 0.8751\n"
     ]
    },
    {
     "data": {
      "text/plain": [
       "[0.3435664714773496, 0.8750833]"
      ]
     },
     "execution_count": 39,
     "metadata": {},
     "output_type": "execute_result"
    }
   ],
   "source": [
    "model.evaluate(val_scaled, val_target)"
   ]
  },
  {
   "cell_type": "markdown",
   "id": "e3df51f9",
   "metadata": {},
   "source": [
    "# 신경망 모델 훈련\n",
    "\n",
    "### 손실곡선\n",
    "- <tensorflow.python.keras.callbacks.History at 0x7fc53684fcc0>\n",
    "- 위의 메시지는 fit() 메소드의 실행 결과를 출력한 것.\n",
    "    - History 객체에는 훈련과정에서 계산한 손실, 정확도 값이 저장되어 있다."
   ]
  },
  {
   "cell_type": "code",
   "execution_count": 62,
   "id": "05668294",
   "metadata": {},
   "outputs": [],
   "source": [
    "from tensorflow import keras\n",
    "from sklearn.model_selection import train_test_split\n",
    "(train_input, train_target), (test_input, test_target) = keras.datasets.fashion_mnist.load_data()\n",
    "train_scaled=train_input/255.0\n",
    "train_scaled, val_scaled, train_target, val_target = train_test_split(\n",
    "    train_scaled, train_target, test_size=0.2, random_state=42)"
   ]
  },
  {
   "cell_type": "code",
   "execution_count": 63,
   "id": "da1cfbd8",
   "metadata": {},
   "outputs": [],
   "source": [
    "def model_fn(a_layer=None):\n",
    "    model=keras.Sequential()\n",
    "    model.add(keras.layers.Flatten(input_shape=(28,28)))\n",
    "    model.add(keras.layers.Dense(100, activation='relu'))\n",
    "    if a_layer:\n",
    "        model.add(a_layer)\n",
    "    model.add(keras.layers.Dense(10, activation='softmax'))\n",
    "    return model"
   ]
  },
  {
   "cell_type": "code",
   "execution_count": 64,
   "id": "c3bd28b3",
   "metadata": {},
   "outputs": [
    {
     "name": "stdout",
     "output_type": "stream",
     "text": [
      "Model: \"sequential_7\"\n",
      "_________________________________________________________________\n",
      "Layer (type)                 Output Shape              Param #   \n",
      "=================================================================\n",
      "flatten_3 (Flatten)          (None, 784)               0         \n",
      "_________________________________________________________________\n",
      "dense_11 (Dense)             (None, 100)               78500     \n",
      "_________________________________________________________________\n",
      "dense_12 (Dense)             (None, 10)                1010      \n",
      "=================================================================\n",
      "Total params: 79,510\n",
      "Trainable params: 79,510\n",
      "Non-trainable params: 0\n",
      "_________________________________________________________________\n"
     ]
    }
   ],
   "source": [
    "model = model_fn()\n",
    "model.summary()"
   ]
  },
  {
   "cell_type": "code",
   "execution_count": 65,
   "id": "b7278b55",
   "metadata": {},
   "outputs": [],
   "source": [
    "model.compile(loss='sparse_categorical_crossentropy', metrics=['acc'])\n",
    "history = model.fit(train_scaled, train_target, epochs=5, verbose=0) ## verbose=2 진행막대빼고출력, verbose=0 훈련과정나타내지않음"
   ]
  },
  {
   "cell_type": "code",
   "execution_count": 66,
   "id": "8f12cb1e",
   "metadata": {},
   "outputs": [
    {
     "name": "stdout",
     "output_type": "stream",
     "text": [
      "dict_keys(['loss', 'acc'])\n"
     ]
    }
   ],
   "source": [
    "print(history.history.keys())"
   ]
  },
  {
   "cell_type": "code",
   "execution_count": 67,
   "id": "08044213",
   "metadata": {},
   "outputs": [
    {
     "data": {
      "image/png": "[encoded data removed]",
      "text/plain": [
       "<Figure size 432x288 with 1 Axes>"
      ]
     },
     "metadata": {
      "needs_background": "light"
     },
     "output_type": "display_data"
    }
   ],
   "source": [
    "# 손실값 출력\n",
    "import matplotlib.pyplot as plt\n",
    "plt.plot(history.history['loss'])\n",
    "plt.xlabel('epoch')\n",
    "plt.ylabel('loss')\n",
    "plt.show()"
   ]
  },
  {
   "cell_type": "code",
   "execution_count": 68,
   "id": "b7414a1d",
   "metadata": {},
   "outputs": [
    {
     "data": {
      "image/png": "[encoded data removed]",
      "text/plain": [
       "<Figure size 432x288 with 1 Axes>"
      ]
     },
     "metadata": {
      "needs_background": "light"
     },
     "output_type": "display_data"
    }
   ],
   "source": [
    "# 정확도 출력\n",
    "plt.plot(history.history['acc'])\n",
    "plt.xlabel('epoch')\n",
    "plt.ylabel('Accuracy')\n",
    "plt.show()"
   ]
  },
  {
   "cell_type": "code",
   "execution_count": 70,
   "id": "6426ce77",
   "metadata": {},
   "outputs": [
    {
     "name": "stdout",
     "output_type": "stream",
     "text": [
      "Train on 48000 samples\n",
      "Epoch 1/20\n",
      "48000/48000 [==============================] - 6s 128us/sample - loss: 0.5327 - acc: 0.8108\n",
      "Epoch 2/20\n",
      "48000/48000 [==============================] - 6s 120us/sample - loss: 0.3946 - acc: 0.8579\n",
      "Epoch 3/20\n",
      "48000/48000 [==============================] - 6s 124us/sample - loss: 0.3570 - acc: 0.8701\n",
      "Epoch 4/20\n",
      "48000/48000 [==============================] - 6s 128us/sample - loss: 0.3346 - acc: 0.8796\n",
      "Epoch 5/20\n",
      "48000/48000 [==============================] - 6s 129us/sample - loss: 0.3182 - acc: 0.8847\n",
      "Epoch 6/20\n",
      "48000/48000 [==============================] - 6s 133us/sample - loss: 0.3081 - acc: 0.8900\n",
      "Epoch 7/20\n",
      "48000/48000 [==============================] - 7s 136us/sample - loss: 0.2984 - acc: 0.8939\n",
      "Epoch 8/20\n",
      "48000/48000 [==============================] - 7s 143us/sample - loss: 0.2895 - acc: 0.8974\n",
      "Epoch 9/20\n",
      "48000/48000 [==============================] - 7s 140us/sample - loss: 0.2834 - acc: 0.9004\n",
      "Epoch 10/20\n",
      "48000/48000 [==============================] - 7s 145us/sample - loss: 0.2772 - acc: 0.9029\n",
      "Epoch 11/20\n",
      "48000/48000 [==============================] - 7s 140us/sample - loss: 0.2717 - acc: 0.9045\n",
      "Epoch 12/20\n",
      "48000/48000 [==============================] - 7s 142us/sample - loss: 0.2656 - acc: 0.9076\n",
      "Epoch 13/20\n",
      "48000/48000 [==============================] - 7s 139us/sample - loss: 0.2598 - acc: 0.9104\n",
      "Epoch 14/20\n",
      "48000/48000 [==============================] - 7s 140us/sample - loss: 0.2560 - acc: 0.9116\n",
      "Epoch 15/20\n",
      "48000/48000 [==============================] - 7s 138us/sample - loss: 0.2487 - acc: 0.9128\n",
      "Epoch 16/20\n",
      "48000/48000 [==============================] - 6s 135us/sample - loss: 0.2458 - acc: 0.9141\n",
      "Epoch 17/20\n",
      "48000/48000 [==============================] - 7s 137us/sample - loss: 0.2395 - acc: 0.9182\n",
      "Epoch 18/20\n",
      "48000/48000 [==============================] - 7s 141us/sample - loss: 0.2384 - acc: 0.9194\n",
      "Epoch 19/20\n",
      "48000/48000 [==============================] - 7s 136us/sample - loss: 0.2328 - acc: 0.9201\n",
      "Epoch 20/20\n",
      "48000/48000 [==============================] - 7s 138us/sample - loss: 0.2280 - acc: 0.9230\n"
     ]
    },
    {
     "data": {
      "image/png": "[encoded data removed]",
      "text/plain": [
       "<Figure size 432x288 with 1 Axes>"
      ]
     },
     "metadata": {
      "needs_background": "light"
     },
     "output_type": "display_data"
    }
   ],
   "source": [
    "# epochs=20 으로 늘려서 훈련하고 손실그래프 출력\n",
    "model = model_fn()\n",
    "model.compile(loss='sparse_categorical_crossentropy', metrics=['acc'])\n",
    "history = model.fit(train_scaled, train_target, epochs=20)\n",
    "plt.plot(history.history['loss'])\n",
    "plt.xlabel('epoch')\n",
    "plt.ylabel('loss')\n",
    "plt.show()"
   ]
  },
  {
   "cell_type": "markdown",
   "id": "cb62eb88",
   "metadata": {},
   "source": [
    "### 검증손실\n",
    "- 모델이 잘 훈련되었는지 판단하려면 정확도보다는 loss값을 확인하는 것이 낫다\n",
    "- validation_data : epoch마다 검증손실을 계산하기 위해 fit()에 검증데이터를 전달가능"
   ]
  },
  {
   "cell_type": "code",
   "execution_count": 72,
   "id": "4d88026a",
   "metadata": {},
   "outputs": [
    {
     "name": "stdout",
     "output_type": "stream",
     "text": [
      "Train on 48000 samples, validate on 12000 samples\n",
      "Epoch 1/20\n",
      "48000/48000 [==============================] - 7s 149us/sample - loss: 0.5322 - acc: 0.8123 - val_loss: 0.4180 - val_acc: 0.8513\n",
      "Epoch 2/20\n",
      "48000/48000 [==============================] - 7s 140us/sample - loss: 0.3942 - acc: 0.8595 - val_loss: 0.3787 - val_acc: 0.8657\n",
      "Epoch 3/20\n",
      "48000/48000 [==============================] - 7s 145us/sample - loss: 0.3575 - acc: 0.8709 - val_loss: 0.4004 - val_acc: 0.8586\n",
      "Epoch 4/20\n",
      "48000/48000 [==============================] - 7s 150us/sample - loss: 0.3358 - acc: 0.8794 - val_loss: 0.3485 - val_acc: 0.8783\n",
      "Epoch 5/20\n",
      "48000/48000 [==============================] - 7s 155us/sample - loss: 0.3217 - acc: 0.8859 - val_loss: 0.3533 - val_acc: 0.8794\n",
      "Epoch 6/20\n",
      "48000/48000 [==============================] - 8s 158us/sample - loss: 0.3101 - acc: 0.8903 - val_loss: 0.4030 - val_acc: 0.8638\n",
      "Epoch 7/20\n",
      "48000/48000 [==============================] - 8s 160us/sample - loss: 0.2999 - acc: 0.8939 - val_loss: 0.3641 - val_acc: 0.8805\n",
      "Epoch 8/20\n",
      "48000/48000 [==============================] - 8s 157us/sample - loss: 0.2905 - acc: 0.8967 - val_loss: 0.3856 - val_acc: 0.8792\n",
      "Epoch 9/20\n",
      "48000/48000 [==============================] - 8s 160us/sample - loss: 0.2853 - acc: 0.8996 - val_loss: 0.3849 - val_acc: 0.8812\n",
      "Epoch 10/20\n",
      "48000/48000 [==============================] - 8s 160us/sample - loss: 0.2773 - acc: 0.9035 - val_loss: 0.3715 - val_acc: 0.8832\n",
      "Epoch 11/20\n",
      "48000/48000 [==============================] - 7s 154us/sample - loss: 0.2712 - acc: 0.9057 - val_loss: 0.3859 - val_acc: 0.8837\n",
      "Epoch 12/20\n",
      "48000/48000 [==============================] - 7s 152us/sample - loss: 0.2653 - acc: 0.9070 - val_loss: 0.3998 - val_acc: 0.8828\n",
      "Epoch 13/20\n",
      "48000/48000 [==============================] - 7s 149us/sample - loss: 0.2598 - acc: 0.9114 - val_loss: 0.3986 - val_acc: 0.8841\n",
      "Epoch 14/20\n",
      "48000/48000 [==============================] - 7s 154us/sample - loss: 0.2569 - acc: 0.9119 - val_loss: 0.4258 - val_acc: 0.8793\n",
      "Epoch 15/20\n",
      "48000/48000 [==============================] - 7s 152us/sample - loss: 0.2492 - acc: 0.9143 - val_loss: 0.4064 - val_acc: 0.8844\n",
      "Epoch 16/20\n",
      "48000/48000 [==============================] - 7s 147us/sample - loss: 0.2466 - acc: 0.9170 - val_loss: 0.4211 - val_acc: 0.8833\n",
      "Epoch 17/20\n",
      "48000/48000 [==============================] - 7s 146us/sample - loss: 0.2408 - acc: 0.9176 - val_loss: 0.4355 - val_acc: 0.8876\n",
      "Epoch 18/20\n",
      "48000/48000 [==============================] - 7s 145us/sample - loss: 0.2386 - acc: 0.9183 - val_loss: 0.4571 - val_acc: 0.8816\n",
      "Epoch 19/20\n",
      "48000/48000 [==============================] - 7s 148us/sample - loss: 0.2363 - acc: 0.9202 - val_loss: 0.4351 - val_acc: 0.8857\n",
      "Epoch 20/20\n",
      "48000/48000 [==============================] - 8s 160us/sample - loss: 0.2339 - acc: 0.9212 - val_loss: 0.4689 - val_acc: 0.8857\n",
      "dict_keys(['loss', 'acc', 'val_loss', 'val_acc'])\n"
     ]
    }
   ],
   "source": [
    "model = model_fn()\n",
    "model.compile(loss='sparse_categorical_crossentropy', metrics=['acc'])\n",
    "history = model.fit(train_scaled, train_target, epochs=20, validation_data=(val_scaled, val_target))\n",
    "print(history.history.keys())"
   ]
  },
  {
   "cell_type": "code",
   "execution_count": 75,
   "id": "de381ddb",
   "metadata": {},
   "outputs": [
    {
     "data": {
      "image/png": "[encoded data removed]",
      "text/plain": [
       "<Figure size 432x288 with 1 Axes>"
      ]
     },
     "metadata": {
      "needs_background": "light"
     },
     "output_type": "display_data"
    }
   ],
   "source": [
    "plt.plot(history.history['loss'])\n",
    "plt.plot(history.history['val_loss'])\n",
    "plt.xlabel('epoch')\n",
    "plt.ylabel('loss')\n",
    "plt.legend(['train', 'val'])\n",
    "plt.show()"
   ]
  },
  {
   "cell_type": "code",
   "execution_count": 77,
   "id": "5ff6161b",
   "metadata": {},
   "outputs": [
    {
     "name": "stdout",
     "output_type": "stream",
     "text": [
      "Train on 48000 samples, validate on 12000 samples\n",
      "Epoch 1/20\n",
      "48000/48000 [==============================] - 5s 96us/sample - loss: 0.5286 - acc: 0.8155 - val_loss: 0.4306 - val_acc: 0.8489\n",
      "Epoch 2/20\n",
      "48000/48000 [==============================] - 4s 86us/sample - loss: 0.3955 - acc: 0.8582 - val_loss: 0.3788 - val_acc: 0.8638\n",
      "Epoch 3/20\n",
      "48000/48000 [==============================] - 4s 88us/sample - loss: 0.3557 - acc: 0.8702 - val_loss: 0.3585 - val_acc: 0.8721\n",
      "Epoch 4/20\n",
      "48000/48000 [==============================] - 4s 92us/sample - loss: 0.3300 - acc: 0.8780 - val_loss: 0.3592 - val_acc: 0.8717\n",
      "Epoch 5/20\n",
      "48000/48000 [==============================] - 5s 96us/sample - loss: 0.3107 - acc: 0.8861 - val_loss: 0.3456 - val_acc: 0.8767\n",
      "Epoch 6/20\n",
      "48000/48000 [==============================] - 5s 96us/sample - loss: 0.2942 - acc: 0.8915 - val_loss: 0.3407 - val_acc: 0.8767\n",
      "Epoch 7/20\n",
      "48000/48000 [==============================] - 5s 97us/sample - loss: 0.2828 - acc: 0.8944 - val_loss: 0.3240 - val_acc: 0.8859\n",
      "Epoch 8/20\n",
      "48000/48000 [==============================] - 5s 95us/sample - loss: 0.2723 - acc: 0.8997 - val_loss: 0.3446 - val_acc: 0.8768\n",
      "Epoch 9/20\n",
      "48000/48000 [==============================] - 5s 102us/sample - loss: 0.2624 - acc: 0.9028 - val_loss: 0.3273 - val_acc: 0.8794\n",
      "Epoch 10/20\n",
      "48000/48000 [==============================] - 5s 101us/sample - loss: 0.2535 - acc: 0.9062 - val_loss: 0.3055 - val_acc: 0.8928\n",
      "Epoch 11/20\n",
      "48000/48000 [==============================] - 5s 99us/sample - loss: 0.2455 - acc: 0.9084 - val_loss: 0.3310 - val_acc: 0.8863\n",
      "Epoch 12/20\n",
      "48000/48000 [==============================] - 5s 99us/sample - loss: 0.2391 - acc: 0.9106 - val_loss: 0.3201 - val_acc: 0.8861\n",
      "Epoch 13/20\n",
      "48000/48000 [==============================] - 5s 100us/sample - loss: 0.2296 - acc: 0.9139 - val_loss: 0.3426 - val_acc: 0.8787\n",
      "Epoch 14/20\n",
      "48000/48000 [==============================] - 5s 101us/sample - loss: 0.2223 - acc: 0.9169 - val_loss: 0.3325 - val_acc: 0.8847\n",
      "Epoch 15/20\n",
      "48000/48000 [==============================] - 5s 100us/sample - loss: 0.2165 - acc: 0.9197 - val_loss: 0.3280 - val_acc: 0.8878\n",
      "Epoch 16/20\n",
      "48000/48000 [==============================] - 5s 98us/sample - loss: 0.2108 - acc: 0.9216 - val_loss: 0.3409 - val_acc: 0.8842\n",
      "Epoch 17/20\n",
      "48000/48000 [==============================] - 5s 97us/sample - loss: 0.2054 - acc: 0.9229 - val_loss: 0.3329 - val_acc: 0.8842\n",
      "Epoch 18/20\n",
      "48000/48000 [==============================] - 5s 98us/sample - loss: 0.1987 - acc: 0.9254 - val_loss: 0.3503 - val_acc: 0.8828\n",
      "Epoch 19/20\n",
      "48000/48000 [==============================] - 5s 96us/sample - loss: 0.1943 - acc: 0.9270 - val_loss: 0.3316 - val_acc: 0.8882\n",
      "Epoch 20/20\n",
      "48000/48000 [==============================] - 5s 100us/sample - loss: 0.1885 - acc: 0.9291 - val_loss: 0.3455 - val_acc: 0.8869\n"
     ]
    },
    {
     "data": {
      "image/png": "[encoded data removed]",
      "text/plain": [
       "<Figure size 432x288 with 1 Axes>"
      ]
     },
     "metadata": {
      "needs_background": "light"
     },
     "output_type": "display_data"
    }
   ],
   "source": [
    "## Adam optimizer 적용\n",
    "model = model_fn()\n",
    "model.compile(optimizer='adam', loss='sparse_categorical_crossentropy', metrics=['acc'])\n",
    "history = model.fit(train_scaled, train_target, epochs=20, validation_data = (val_scaled, val_target))\n",
    "plt.plot(history.history['loss'])\n",
    "plt.plot(history.history['val_loss'])\n",
    "plt.xlabel('epoch')\n",
    "plt.ylabel('loss')\n",
    "plt.legend(['train','val'])\n",
    "plt.show()"
   ]
  },
  {
   "cell_type": "markdown",
   "id": "d817abe5",
   "metadata": {},
   "source": [
    "- 과대적합이 감소한 것을 볼 수 있다.\n",
    "- lr을 조정해서 더 나은 손실 곡선을 얻을 수 있다."
   ]
  },
  {
   "cell_type": "markdown",
   "id": "333f6605",
   "metadata": {},
   "source": [
    "### Drop Out\n",
    "- 훈련과정에서 층에 있는 일부 뉴런을 랜덤하게 꺼서 과대적합을 막는다.\n",
    "- keras.layers.Dropout()"
   ]
  },
  {
   "cell_type": "code",
   "execution_count": 78,
   "id": "94f127ac",
   "metadata": {
    "scrolled": true
   },
   "outputs": [
    {
     "name": "stdout",
     "output_type": "stream",
     "text": [
      "Model: \"sequential_13\"\n",
      "_________________________________________________________________\n",
      "Layer (type)                 Output Shape              Param #   \n",
      "=================================================================\n",
      "flatten_9 (Flatten)          (None, 784)               0         \n",
      "_________________________________________________________________\n",
      "dense_23 (Dense)             (None, 100)               78500     \n",
      "_________________________________________________________________\n",
      "dropout (Dropout)            (None, 100)               0         \n",
      "_________________________________________________________________\n",
      "dense_24 (Dense)             (None, 10)                1010      \n",
      "=================================================================\n",
      "Total params: 79,510\n",
      "Trainable params: 79,510\n",
      "Non-trainable params: 0\n",
      "_________________________________________________________________\n"
     ]
    }
   ],
   "source": [
    "model = model_fn(keras.layers.Dropout(0.3))\n",
    "model.summary()"
   ]
  },
  {
   "cell_type": "markdown",
   "id": "9c21154e",
   "metadata": {},
   "source": [
    "- DropOut층은 훈련되는 모델 파라미터가 없다.\n",
    "- 입력과 출력의 크기가 같다.\n",
    "- 일부 뉴런의 출력을 0으로 만들지만, 전체 출력 배열의 크기를 바꾸지는 않는다.\n"
   ]
  },
  {
   "cell_type": "code",
   "execution_count": 79,
   "id": "29af641b",
   "metadata": {},
   "outputs": [
    {
     "name": "stdout",
     "output_type": "stream",
     "text": [
      "Train on 48000 samples, validate on 12000 samples\n",
      "Epoch 1/20\n",
      "48000/48000 [==============================] - 6s 124us/sample - loss: 0.6020 - acc: 0.7875 - val_loss: 0.4283 - val_acc: 0.8478\n",
      "Epoch 2/20\n",
      "48000/48000 [==============================] - 5s 108us/sample - loss: 0.4373 - acc: 0.8420 - val_loss: 0.4108 - val_acc: 0.8542\n",
      "Epoch 3/20\n",
      "48000/48000 [==============================] - 6s 116us/sample - loss: 0.4049 - acc: 0.8535 - val_loss: 0.3643 - val_acc: 0.8673\n",
      "Epoch 4/20\n",
      "48000/48000 [==============================] - 6s 115us/sample - loss: 0.3819 - acc: 0.8599 - val_loss: 0.3529 - val_acc: 0.8715\n",
      "Epoch 5/20\n",
      "48000/48000 [==============================] - 6s 115us/sample - loss: 0.3654 - acc: 0.8671 - val_loss: 0.3471 - val_acc: 0.8733\n",
      "Epoch 6/20\n",
      "48000/48000 [==============================] - 6s 115us/sample - loss: 0.3524 - acc: 0.8698 - val_loss: 0.3533 - val_acc: 0.8717\n",
      "Epoch 7/20\n",
      "48000/48000 [==============================] - 6s 124us/sample - loss: 0.3436 - acc: 0.8738 - val_loss: 0.3376 - val_acc: 0.8748\n",
      "Epoch 8/20\n",
      "48000/48000 [==============================] - 6s 121us/sample - loss: 0.3349 - acc: 0.8770 - val_loss: 0.3322 - val_acc: 0.8773\n",
      "Epoch 9/20\n",
      "48000/48000 [==============================] - 6s 127us/sample - loss: 0.3271 - acc: 0.8789 - val_loss: 0.3308 - val_acc: 0.8780\n",
      "Epoch 10/20\n",
      "48000/48000 [==============================] - 6s 125us/sample - loss: 0.3199 - acc: 0.8816 - val_loss: 0.3240 - val_acc: 0.8829\n",
      "Epoch 11/20\n",
      "48000/48000 [==============================] - 6s 131us/sample - loss: 0.3153 - acc: 0.8842 - val_loss: 0.3247 - val_acc: 0.8807\n",
      "Epoch 12/20\n",
      "48000/48000 [==============================] - 6s 132us/sample - loss: 0.3095 - acc: 0.8849 - val_loss: 0.3241 - val_acc: 0.8817\n",
      "Epoch 13/20\n",
      "48000/48000 [==============================] - 6s 132us/sample - loss: 0.3042 - acc: 0.8857 - val_loss: 0.3239 - val_acc: 0.8841\n",
      "Epoch 14/20\n",
      "48000/48000 [==============================] - 6s 120us/sample - loss: 0.2969 - acc: 0.8891 - val_loss: 0.3399 - val_acc: 0.8789\n",
      "Epoch 15/20\n",
      "48000/48000 [==============================] - 6s 126us/sample - loss: 0.2951 - acc: 0.8894 - val_loss: 0.3292 - val_acc: 0.8817\n",
      "Epoch 16/20\n",
      "48000/48000 [==============================] - 6s 125us/sample - loss: 0.2899 - acc: 0.8914 - val_loss: 0.3231 - val_acc: 0.8866\n",
      "Epoch 17/20\n",
      "48000/48000 [==============================] - 6s 127us/sample - loss: 0.2894 - acc: 0.8927 - val_loss: 0.3271 - val_acc: 0.8828\n",
      "Epoch 18/20\n",
      "48000/48000 [==============================] - 6s 122us/sample - loss: 0.2838 - acc: 0.8935 - val_loss: 0.3301 - val_acc: 0.8819\n",
      "Epoch 19/20\n",
      "48000/48000 [==============================] - 6s 123us/sample - loss: 0.2778 - acc: 0.8954 - val_loss: 0.3188 - val_acc: 0.8859\n",
      "Epoch 20/20\n",
      "48000/48000 [==============================] - 6s 122us/sample - loss: 0.2784 - acc: 0.8950 - val_loss: 0.3199 - val_acc: 0.8852\n"
     ]
    },
    {
     "data": {
      "image/png": "[encoded data removed]",
      "text/plain": [
       "<Figure size 432x288 with 1 Axes>"
      ]
     },
     "metadata": {
      "needs_background": "light"
     },
     "output_type": "display_data"
    }
   ],
   "source": [
    "model.compile(optimizer='adam', loss='sparse_categorical_crossentropy', metrics=['acc'])\n",
    "history = model.fit(train_scaled, train_target, epochs=20, validation_data=(val_scaled, val_target))\n",
    "\n",
    "plt.plot(history.history['loss'])\n",
    "plt.plot(history.history['val_loss'])\n",
    "plt.xlabel('epoch')\n",
    "plt.ylabel('loss')\n",
    "plt.legend(['train', 'val'])\n",
    "plt.show()"
   ]
  },
  {
   "cell_type": "markdown",
   "id": "2f4fdcba",
   "metadata": {},
   "source": [
    "- 20번의 epoch 동안 훈련을 했기 때문에 다소 과대적합이 되어있다.\n",
    "- 과대적합 되지 않은 모델을 얻기 위해 epoch수를 10으로 줄이고 다시 훈련"
   ]
  },
  {
   "cell_type": "markdown",
   "id": "b5b14a45",
   "metadata": {},
   "source": [
    "### 모델 저장과 복원"
   ]
  },
  {
   "cell_type": "code",
   "execution_count": 82,
   "id": "4395e126",
   "metadata": {},
   "outputs": [
    {
     "name": "stdout",
     "output_type": "stream",
     "text": [
      "Train on 48000 samples, validate on 12000 samples\n",
      "Epoch 1/10\n",
      "48000/48000 [==============================] - 6s 126us/sample - loss: 0.5927 - acc: 0.7925 - val_loss: 0.4419 - val_acc: 0.8422\n",
      "Epoch 2/10\n",
      "48000/48000 [==============================] - 5s 109us/sample - loss: 0.4426 - acc: 0.8410 - val_loss: 0.4261 - val_acc: 0.8444\n",
      "Epoch 3/10\n",
      "48000/48000 [==============================] - 6s 117us/sample - loss: 0.4046 - acc: 0.8540 - val_loss: 0.3714 - val_acc: 0.8623\n",
      "Epoch 4/10\n",
      "48000/48000 [==============================] - 6s 116us/sample - loss: 0.3791 - acc: 0.8611 - val_loss: 0.3621 - val_acc: 0.8698\n",
      "Epoch 5/10\n",
      "48000/48000 [==============================] - 6s 120us/sample - loss: 0.3663 - acc: 0.8664 - val_loss: 0.3479 - val_acc: 0.8723\n",
      "Epoch 6/10\n",
      "48000/48000 [==============================] - 6s 118us/sample - loss: 0.3533 - acc: 0.8694 - val_loss: 0.3597 - val_acc: 0.8721\n",
      "Epoch 7/10\n",
      "48000/48000 [==============================] - 6s 123us/sample - loss: 0.3412 - acc: 0.8745 - val_loss: 0.3384 - val_acc: 0.8806\n",
      "Epoch 8/10\n",
      "48000/48000 [==============================] - 6s 122us/sample - loss: 0.3341 - acc: 0.8776 - val_loss: 0.3253 - val_acc: 0.8815\n",
      "Epoch 9/10\n",
      "48000/48000 [==============================] - 6s 125us/sample - loss: 0.3282 - acc: 0.8790 - val_loss: 0.3348 - val_acc: 0.8788\n",
      "Epoch 10/10\n",
      "48000/48000 [==============================] - 6s 121us/sample - loss: 0.3178 - acc: 0.8814 - val_loss: 0.3300 - val_acc: 0.8813\n"
     ]
    }
   ],
   "source": [
    "model = model_fn(keras.layers.Dropout(0.3))\n",
    "model.compile(optimizer='adam',loss='sparse_categorical_crossentropy', metrics=['acc'])\n",
    "history = model.fit(train_scaled, train_target, epochs=10, validation_data=(val_scaled, val_target))"
   ]
  },
  {
   "cell_type": "code",
   "execution_count": 83,
   "id": "6f3a435e",
   "metadata": {},
   "outputs": [],
   "source": [
    "## keras model은 save_weights() 제공.\n",
    "model.save_weights('model-weights.h5') ## <--> load_weights"
   ]
  },
  {
   "cell_type": "code",
   "execution_count": 84,
   "id": "6e3003a6",
   "metadata": {},
   "outputs": [],
   "source": [
    "## 모델구조와 모델파라미터를 함께 저장하는 save()\n",
    "model.save('model-whole.h5')"
   ]
  },
  {
   "cell_type": "code",
   "execution_count": 85,
   "id": "b553557e",
   "metadata": {},
   "outputs": [
    {
     "name": "stdout",
     "output_type": "stream",
     "text": [
      "-rw-r--r--  1 yonghyunpark  staff  332624  7 12 22:08 model-weights.h5\r\n",
      "-rw-r--r--  1 yonghyunpark  staff  982920  7 12 22:09 model-whole.h5\r\n"
     ]
    }
   ],
   "source": [
    "!ls -al *.h5"
   ]
  },
  {
   "cell_type": "markdown",
   "id": "4b93c27a",
   "metadata": {},
   "source": [
    "- 1. 훈련을 하지 않은 새로운 모델을 만들고 model-weights.h5 파일에서 훈련된 모델 파라미터를 읽어서 사용\n",
    "- 2. 아예 model-whole.h5 파일에서 새로운 모델을 만들어 사용"
   ]
  },
  {
   "cell_type": "code",
   "execution_count": 87,
   "id": "13d31a3d",
   "metadata": {},
   "outputs": [],
   "source": [
    "## model-weights.h5 파일에서 훈련된 모델 파라미터를 읽어서 사용\n",
    "model = model_fn(keras.layers.Dropout(0.3))\n",
    "model.load_weights('model-weights.h5')"
   ]
  },
  {
   "cell_type": "code",
   "execution_count": 103,
   "id": "e266751b",
   "metadata": {},
   "outputs": [
    {
     "name": "stdout",
     "output_type": "stream",
     "text": [
      "0.8813333333333333\n"
     ]
    }
   ],
   "source": [
    "import numpy as np\n",
    "val_labels = np.argmax(model.predict(val_scaled), axis=-1)\n",
    "print(np.mean(val_labels==val_target))"
   ]
  },
  {
   "cell_type": "markdown",
   "id": "7d347981",
   "metadata": {},
   "source": [
    "- predict() 결과에서 가장 큰 값을 고르기 위해 argmax()\n",
    "- axis=-1 은 마지막 차원을 따라 최대값\n",
    "\n",
    "- np.mean(val_labels==val_target) 은 라벨과 타깃값을 비교하여 각 위치 값이 같으면 1, 다르면 0. 이를 평균하면 정확도"
   ]
  },
  {
   "cell_type": "code",
   "execution_count": 104,
   "id": "7edae418",
   "metadata": {},
   "outputs": [
    {
     "name": "stdout",
     "output_type": "stream",
     "text": [
      "WARNING:tensorflow:From /Users/yonghyunpark/opt/anaconda3/envs/deeplearning/lib/python3.7/site-packages/tensorflow_core/python/ops/init_ops.py:97: calling GlorotUniform.__init__ (from tensorflow.python.ops.init_ops) with dtype is deprecated and will be removed in a future version.\n",
      "Instructions for updating:\n",
      "Call initializer instance with the dtype argument instead of passing it to the constructor\n",
      "WARNING:tensorflow:From /Users/yonghyunpark/opt/anaconda3/envs/deeplearning/lib/python3.7/site-packages/tensorflow_core/python/ops/init_ops.py:97: calling Zeros.__init__ (from tensorflow.python.ops.init_ops) with dtype is deprecated and will be removed in a future version.\n",
      "Instructions for updating:\n",
      "Call initializer instance with the dtype argument instead of passing it to the constructor\n",
      "12000/12000 [==============================] - 1s 61us/sample - loss: 0.3300 - acc: 0.8813\n"
     ]
    },
    {
     "data": {
      "text/plain": [
       "[0.33003276481231053, 0.88133335]"
      ]
     },
     "execution_count": 104,
     "metadata": {},
     "output_type": "execute_result"
    }
   ],
   "source": [
    "## 모델 전체를 파일에서 읽은 다음 검증 세트의 정확도를 출력\n",
    "model = keras.models.load_model('model-whole.h5')\n",
    "model.evaluate(val_scaled, val_target)"
   ]
  },
  {
   "cell_type": "markdown",
   "id": "985f56fd",
   "metadata": {},
   "source": [
    "### Callback\n",
    "- 최상의 검증 점수를 만드는 모델을 저장"
   ]
  },
  {
   "cell_type": "code",
   "execution_count": 105,
   "id": "5dddca49",
   "metadata": {},
   "outputs": [
    {
     "name": "stdout",
     "output_type": "stream",
     "text": [
      "Train on 48000 samples, validate on 12000 samples\n",
      "Epoch 1/20\n",
      "48000/48000 [==============================] - 7s 142us/sample - loss: 0.5868 - acc: 0.7940 - val_loss: 0.4330 - val_acc: 0.8447\n",
      "Epoch 2/20\n",
      "48000/48000 [==============================] - 5s 109us/sample - loss: 0.4322 - acc: 0.8421 - val_loss: 0.3874 - val_acc: 0.8579\n",
      "Epoch 3/20\n",
      "48000/48000 [==============================] - 6s 116us/sample - loss: 0.4007 - acc: 0.8529 - val_loss: 0.3609 - val_acc: 0.8672\n",
      "Epoch 4/20\n",
      "48000/48000 [==============================] - 5s 114us/sample - loss: 0.3813 - acc: 0.8609 - val_loss: 0.3421 - val_acc: 0.8754\n",
      "Epoch 5/20\n",
      "48000/48000 [==============================] - 6s 117us/sample - loss: 0.3619 - acc: 0.8665 - val_loss: 0.3454 - val_acc: 0.8728\n",
      "Epoch 6/20\n",
      "48000/48000 [==============================] - 6s 116us/sample - loss: 0.3492 - acc: 0.8709 - val_loss: 0.3415 - val_acc: 0.8751\n",
      "Epoch 7/20\n",
      "48000/48000 [==============================] - 6s 120us/sample - loss: 0.3391 - acc: 0.8749 - val_loss: 0.3393 - val_acc: 0.8763\n",
      "Epoch 8/20\n",
      "48000/48000 [==============================] - 6s 121us/sample - loss: 0.3296 - acc: 0.8787 - val_loss: 0.3278 - val_acc: 0.8773\n",
      "Epoch 9/20\n",
      "48000/48000 [==============================] - 6s 124us/sample - loss: 0.3189 - acc: 0.8807 - val_loss: 0.3299 - val_acc: 0.8787\n",
      "Epoch 10/20\n",
      "48000/48000 [==============================] - 6s 122us/sample - loss: 0.3141 - acc: 0.8833 - val_loss: 0.3467 - val_acc: 0.8750\n",
      "Epoch 11/20\n",
      "48000/48000 [==============================] - 6s 126us/sample - loss: 0.3105 - acc: 0.8847 - val_loss: 0.3212 - val_acc: 0.8826\n",
      "Epoch 12/20\n",
      "48000/48000 [==============================] - 6s 123us/sample - loss: 0.3004 - acc: 0.8872 - val_loss: 0.3293 - val_acc: 0.8808\n",
      "Epoch 13/20\n",
      "48000/48000 [==============================] - 6s 125us/sample - loss: 0.3008 - acc: 0.8882 - val_loss: 0.3236 - val_acc: 0.8838\n",
      "Epoch 14/20\n",
      "48000/48000 [==============================] - 6s 126us/sample - loss: 0.2923 - acc: 0.8890 - val_loss: 0.3307 - val_acc: 0.8795\n",
      "Epoch 15/20\n",
      "48000/48000 [==============================] - 6s 121us/sample - loss: 0.2911 - acc: 0.8908 - val_loss: 0.3142 - val_acc: 0.8895\n",
      "Epoch 16/20\n",
      "48000/48000 [==============================] - 6s 123us/sample - loss: 0.2839 - acc: 0.8931 - val_loss: 0.3244 - val_acc: 0.8842\n",
      "Epoch 17/20\n",
      "48000/48000 [==============================] - 6s 119us/sample - loss: 0.2847 - acc: 0.8919 - val_loss: 0.3182 - val_acc: 0.8883\n",
      "Epoch 18/20\n",
      "48000/48000 [==============================] - 6s 121us/sample - loss: 0.2808 - acc: 0.8945 - val_loss: 0.3226 - val_acc: 0.8855\n",
      "Epoch 19/20\n",
      "48000/48000 [==============================] - 6s 119us/sample - loss: 0.2753 - acc: 0.8941 - val_loss: 0.3285 - val_acc: 0.8827\n",
      "Epoch 20/20\n",
      "48000/48000 [==============================] - 6s 117us/sample - loss: 0.2717 - acc: 0.8991 - val_loss: 0.3423 - val_acc: 0.8828\n"
     ]
    },
    {
     "data": {
      "text/plain": [
       "<tensorflow.python.keras.callbacks.History at 0x7f818cf25eb8>"
      ]
     },
     "execution_count": 105,
     "metadata": {},
     "output_type": "execute_result"
    }
   ],
   "source": [
    "model = model_fn(keras.layers.Dropout(0.3))\n",
    "model.compile(optimizer='adam', loss='sparse_categorical_crossentropy', metrics=['acc'])\n",
    "checkpoint_cb = keras.callbacks.ModelCheckpoint('best-model.h5')\n",
    "model.fit(train_scaled, train_target, epochs=20, validation_data=(val_scaled, val_target), callbacks=[checkpoint_cb])"
   ]
  },
  {
   "cell_type": "code",
   "execution_count": 106,
   "id": "8427aa6b",
   "metadata": {},
   "outputs": [
    {
     "name": "stdout",
     "output_type": "stream",
     "text": [
      "12000/12000 [==============================] - 1s 63us/sample - loss: 0.3423 - acc: 0.8828\n"
     ]
    },
    {
     "data": {
      "text/plain": [
       "[0.3423173414270083, 0.88283336]"
      ]
     },
     "execution_count": 106,
     "metadata": {},
     "output_type": "execute_result"
    }
   ],
   "source": [
    "## 최상의 검증 점수를 낸 모델 읽어옴\n",
    "model = keras.models.load_model('best-model.h5')\n",
    "model.evaluate(val_scaled, val_target)"
   ]
  },
  {
   "cell_type": "markdown",
   "id": "c2829f27",
   "metadata": {},
   "source": [
    "**Early Stopping**\n",
    "- 과대적합이 시작되기 전에 훈련을 미리 중지\n",
    "- patience=2 로 지정하면 2번연속 검증 점수가 향상되지 않으면 훈련을 중지\n",
    "- restore_best_weights = True 로 지정하면 가장 낮은 손실을 낸 모델 파라미터로 되돌린다.\n",
    "- EarlyStopping 과 ModelCheckpoint 함께 사용하면 가장 낮은 손실의 모델을 파일에 저장하고 손실이 다시 상승할 때 훈련을 중지"
   ]
  },
  {
   "cell_type": "code",
   "execution_count": 107,
   "id": "ed64f65d",
   "metadata": {},
   "outputs": [
    {
     "name": "stdout",
     "output_type": "stream",
     "text": [
      "Train on 48000 samples, validate on 12000 samples\n",
      "Epoch 1/20\n",
      "48000/48000 [==============================] - 7s 149us/sample - loss: 0.5930 - acc: 0.7937 - val_loss: 0.4341 - val_acc: 0.8414\n",
      "Epoch 2/20\n",
      "48000/48000 [==============================] - 5s 109us/sample - loss: 0.4401 - acc: 0.8419 - val_loss: 0.3881 - val_acc: 0.8537\n",
      "Epoch 3/20\n",
      "48000/48000 [==============================] - 6s 118us/sample - loss: 0.4020 - acc: 0.8557 - val_loss: 0.3688 - val_acc: 0.8644\n",
      "Epoch 4/20\n",
      "48000/48000 [==============================] - 6s 116us/sample - loss: 0.3829 - acc: 0.8589 - val_loss: 0.3584 - val_acc: 0.8683\n",
      "Epoch 5/20\n",
      "48000/48000 [==============================] - 6s 119us/sample - loss: 0.3685 - acc: 0.8663 - val_loss: 0.3488 - val_acc: 0.8723\n",
      "Epoch 6/20\n",
      "48000/48000 [==============================] - 6s 121us/sample - loss: 0.3550 - acc: 0.8707 - val_loss: 0.3513 - val_acc: 0.8712\n",
      "Epoch 7/20\n",
      "48000/48000 [==============================] - 6s 125us/sample - loss: 0.3446 - acc: 0.8737 - val_loss: 0.3342 - val_acc: 0.8796\n",
      "Epoch 8/20\n",
      "48000/48000 [==============================] - 6s 126us/sample - loss: 0.3371 - acc: 0.8747 - val_loss: 0.3348 - val_acc: 0.8776\n",
      "Epoch 9/20\n",
      "48000/48000 [==============================] - 6s 127us/sample - loss: 0.3285 - acc: 0.8781 - val_loss: 0.3329 - val_acc: 0.8786\n",
      "Epoch 10/20\n",
      "48000/48000 [==============================] - 6s 127us/sample - loss: 0.3240 - acc: 0.8796 - val_loss: 0.3291 - val_acc: 0.8802\n",
      "Epoch 11/20\n",
      "48000/48000 [==============================] - 6s 129us/sample - loss: 0.3177 - acc: 0.8829 - val_loss: 0.3349 - val_acc: 0.8766\n",
      "Epoch 12/20\n",
      "48000/48000 [==============================] - 6s 128us/sample - loss: 0.3094 - acc: 0.8859 - val_loss: 0.3201 - val_acc: 0.8833\n",
      "Epoch 13/20\n",
      "48000/48000 [==============================] - 6s 126us/sample - loss: 0.3052 - acc: 0.8864 - val_loss: 0.3402 - val_acc: 0.8803\n",
      "Epoch 14/20\n",
      "48000/48000 [==============================] - 6s 127us/sample - loss: 0.3023 - acc: 0.8867 - val_loss: 0.3189 - val_acc: 0.8856\n",
      "Epoch 15/20\n",
      "48000/48000 [==============================] - 6s 124us/sample - loss: 0.2973 - acc: 0.8871 - val_loss: 0.3258 - val_acc: 0.8811\n",
      "Epoch 16/20\n",
      "48000/48000 [==============================] - 6s 131us/sample - loss: 0.2931 - acc: 0.8900 - val_loss: 0.3374 - val_acc: 0.8773\n"
     ]
    }
   ],
   "source": [
    "# EarlyStopping, ModelCheckpoint 함께 사용\n",
    "model = model_fn(keras.layers.Dropout(0.3))\n",
    "model.compile(optimizer='adam', loss = 'sparse_categorical_crossentropy', metrics=['acc'])\n",
    "checkpoint_cb = keras.callbacks.ModelCheckpoint('best-model.h5')\n",
    "early_stopping_cb = keras.callbacks.EarlyStopping(patience=2, restore_best_weights=True)\n",
    "history = model.fit(train_scaled, train_target, epochs=20, validation_data=(val_scaled, val_target),\n",
    "                   callbacks = [checkpoint_cb, early_stopping_cb])"
   ]
  },
  {
   "cell_type": "code",
   "execution_count": 109,
   "id": "f5c0e36d",
   "metadata": {},
   "outputs": [
    {
     "name": "stdout",
     "output_type": "stream",
     "text": [
      "15\n"
     ]
    }
   ],
   "source": [
    "## 언제 훈련 중지되었는지\n",
    "print(early_stopping_cb.stopped_epoch) ## 0부터 시작하므로, 15는 16번째임.\n",
    "## patience=2 로 지정했으므로 최상의 모델은 14번째 epoch"
   ]
  },
  {
   "cell_type": "code",
   "execution_count": 113,
   "id": "7738f910",
   "metadata": {},
   "outputs": [
    {
     "data": {
      "image/png": "[encoded data removed]",
      "text/plain": [
       "<Figure size 432x288 with 1 Axes>"
      ]
     },
     "metadata": {
      "needs_background": "light"
     },
     "output_type": "display_data"
    }
   ],
   "source": [
    "## 훈련손실과 검증손실 출력\n",
    "plt.plot(history.history['loss'])\n",
    "plt.plot(history.history['val_loss'])\n",
    "plt.xlabel('epoch')\n",
    "plt.ylabel('loss')\n",
    "plt.legend(['train', 'val'])\n",
    "plt.show()"
   ]
  },
  {
   "cell_type": "code",
   "execution_count": 114,
   "id": "2a7e43d6",
   "metadata": {},
   "outputs": [
    {
     "name": "stdout",
     "output_type": "stream",
     "text": [
      "12000/12000 [==============================] - 1s 43us/sample - loss: 0.3189 - acc: 0.8856\n"
     ]
    },
    {
     "data": {
      "text/plain": [
       "[0.3189010344147682, 0.88558334]"
      ]
     },
     "execution_count": 114,
     "metadata": {},
     "output_type": "execute_result"
    }
   ],
   "source": [
    "## 조기종료로 얻은 모델을 사용해 검증 세트에 대한 성능 확인\n",
    "model.evaluate(val_scaled, val_target)"
   ]
  },
  {
   "cell_type": "markdown",
   "id": "9ad775ed",
   "metadata": {},
   "source": [
    "# 정리"
   ]
  },
  {
   "cell_type": "markdown",
   "id": "5bcd061b",
   "metadata": {},
   "source": [
    "- 과대적합을 막기 위한 dropout : 일부 뉴런의 출력을 랜덤하게 꺼서 많은 신경망을 앙상블하는 효과\n",
    "- 모델의 파라미터를 저장하고 다시 불러오는 메소드\n",
    "- ModelCheckpoint, EarlyStopping : 최상의 모델을 저장하고 epochs를 자동으로 멈춰준다."
   ]
  },
  {
   "cell_type": "code",
   "execution_count": null,
   "id": "32d58331",
   "metadata": {},
   "outputs": [],
   "source": []
  }
 ],
 "metadata": {
  "kernelspec": {
   "display_name": "Python 3",
   "language": "python",
   "name": "python3"
  },
  "language_info": {
   "codemirror_mode": {
    "name": "ipython",
    "version": 3
   },
   "file_extension": ".py",
   "mimetype": "text/x-python",
   "name": "python",
   "nbconvert_exporter": "python",
   "pygments_lexer": "ipython3",
   "version": "3.7.0"
  },
  "toc": {
   "base_numbering": 1,
   "nav_menu": {},
   "number_sections": true,
   "sideBar": true,
   "skip_h1_title": false,
   "title_cell": "Table of Contents",
   "title_sidebar": "Contents",
   "toc_cell": false,
   "toc_position": {},
   "toc_section_display": true,
   "toc_window_display": false
  },
  "varInspector": {
   "cols": {
    "lenName": 16,
    "lenType": 16,
    "lenVar": 40
   },
   "kernels_config": {
    "python": {
     "delete_cmd_postfix": "",
     "delete_cmd_prefix": "del ",
     "library": "var_list.py",
     "varRefreshCmd": "print(var_dic_list())"
    },
    "r": {
     "delete_cmd_postfix": ") ",
     "delete_cmd_prefix": "rm(",
     "library": "var_list.r",
     "varRefreshCmd": "cat(var_dic_list()) "
    }
   },
   "types_to_exclude": [
    "module",
    "function",
    "builtin_function_or_method",
    "instance",
    "_Feature"
   ],
   "window_display": false
  }
 },
 "nbformat": 4,
 "nbformat_minor": 5
}
