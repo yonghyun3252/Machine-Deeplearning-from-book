{
 "cells": [
  {
   "cell_type": "markdown",
   "metadata": {
    "collapsed": true,
    "pycharm": {
     "name": "#%% md\n"
    }
   },
   "source": [
    "# 다중회귀(Multiple Regression)\n",
    "## 특성이 2개면\n",
    "- '타깃 = a X 특성1 + b X 특성2 + 절편'은 평면이된다.\n",
    "\n",
    "## 특성을 3개로 만들면?\n",
    "- '농어길이 X 농어높이' 를 새로운 특성으로 만든다. --> 특성공학\n",
    "\n",
    "## csv 파일 -> 판다스 데이터프레임(pd.read_csv()) -> 넘파이 배열(to_numpy())\n",
    "- 판다스 데이터프레임을 넘파이 배열로 만드는 과정"
   ]
  },
  {
   "cell_type": "code",
   "execution_count": 1,
   "outputs": [
    {
     "name": "stdout",
     "output_type": "stream",
     "text": [
      "[[ 8.4   2.11  1.41]\n",
      " [13.7   3.53  2.  ]\n",
      " [15.    3.82  2.43]\n",
      " [16.2   4.59  2.63]\n",
      " [17.4   4.59  2.94]\n",
      " [18.    5.22  3.32]\n",
      " [18.7   5.2   3.12]\n",
      " [19.    5.64  3.05]\n",
      " [19.6   5.14  3.04]\n",
      " [20.    5.08  2.77]\n",
      " [21.    5.69  3.56]\n",
      " [21.    5.92  3.31]\n",
      " [21.    5.69  3.67]\n",
      " [21.3   6.38  3.53]\n",
      " [22.    6.11  3.41]\n",
      " [22.    5.64  3.52]\n",
      " [22.    6.11  3.52]\n",
      " [22.    5.88  3.52]\n",
      " [22.    5.52  4.  ]\n",
      " [22.5   5.86  3.62]\n",
      " [22.5   6.79  3.62]\n",
      " [22.7   5.95  3.63]\n",
      " [23.    5.22  3.63]\n",
      " [23.5   6.28  3.72]\n",
      " [24.    7.29  3.72]\n",
      " [24.    6.38  3.82]\n",
      " [24.6   6.73  4.17]\n",
      " [25.    6.44  3.68]\n",
      " [25.6   6.56  4.24]\n",
      " [26.5   7.17  4.14]\n",
      " [27.3   8.32  5.14]\n",
      " [27.5   7.17  4.34]\n",
      " [27.5   7.05  4.34]\n",
      " [27.5   7.28  4.57]\n",
      " [28.    7.82  4.2 ]\n",
      " [28.7   7.59  4.64]\n",
      " [30.    7.62  4.77]\n",
      " [32.8  10.03  6.02]\n",
      " [34.5  10.26  6.39]\n",
      " [35.   11.49  7.8 ]\n",
      " [36.5  10.88  6.86]\n",
      " [36.   10.61  6.74]\n",
      " [37.   10.84  6.26]\n",
      " [37.   10.57  6.37]\n",
      " [39.   11.14  7.49]\n",
      " [39.   11.14  6.  ]\n",
      " [39.   12.43  7.35]\n",
      " [40.   11.93  7.11]\n",
      " [40.   11.73  7.22]\n",
      " [40.   12.38  7.46]\n",
      " [40.   11.14  6.63]\n",
      " [42.   12.8   6.87]\n",
      " [43.   11.93  7.28]\n",
      " [43.   12.51  7.42]\n",
      " [43.5  12.6   8.14]\n",
      " [44.   12.49  7.6 ]]\n"
     ]
    }
   ],
   "source": [
    "import pandas as pd\n",
    "df = pd.read_csv('https://bit.ly/perch_csv_data')\n",
    "perch_full = df.to_numpy()\n",
    "print(perch_full)"
   ],
   "metadata": {
    "collapsed": false,
    "pycharm": {
     "name": "#%%\n"
    }
   }
  },
  {
   "cell_type": "code",
   "execution_count": 2,
   "outputs": [],
   "source": [
    "import numpy as np\n",
    "perch_weight = np.array([5.9, 32.0, 40.0, 51.5, 70.0, 100.0, 78.0, 80.0, 85.0, 85.0, 110.0,\n",
    "       115.0, 125.0, 130.0, 120.0, 120.0, 130.0, 135.0, 110.0, 130.0,\n",
    "       150.0, 145.0, 150.0, 170.0, 225.0, 145.0, 188.0, 180.0, 197.0,\n",
    "       218.0, 300.0, 260.0, 265.0, 250.0, 250.0, 300.0, 320.0, 514.0,\n",
    "       556.0, 840.0, 685.0, 700.0, 700.0, 690.0, 900.0, 650.0, 820.0,\n",
    "       850.0, 900.0, 1015.0, 820.0, 1100.0, 1000.0, 1100.0, 1000.0,\n",
    "       1000.0])"
   ],
   "metadata": {
    "collapsed": false,
    "pycharm": {
     "name": "#%%\n"
    }
   }
  },
  {
   "cell_type": "code",
   "execution_count": 3,
   "outputs": [],
   "source": [
    "# perch_full 과 perch_weight 데이터들을 훈련세트와 테스트 세트로 나눈다.\n",
    "from sklearn.model_selection import train_test_split\n",
    "train_input, test_input, train_target, test_target = train_test_split(\n",
    "    perch_full, perch_weight, random_state=42\n",
    ")"
   ],
   "metadata": {
    "collapsed": false,
    "pycharm": {
     "name": "#%%\n"
    }
   }
  },
  {
   "cell_type": "code",
   "execution_count": 4,
   "outputs": [
    {
     "name": "stdout",
     "output_type": "stream",
     "text": [
      "[[2. 3. 4. 6. 9.]]\n"
     ]
    }
   ],
   "source": [
    "from sklearn.preprocessing import PolynomialFeatures\n",
    "\n",
    "poly = PolynomialFeatures(include_bias=False) # 자동으로 절편을 추가하므로 굳이 필요가없다.\n",
    "poly.fit([[2,3]])\n",
    "print(poly.transform([[2,3]]))"
   ],
   "metadata": {
    "collapsed": false,
    "pycharm": {
     "name": "#%%\n"
    }
   }
  },
  {
   "cell_type": "code",
   "execution_count": 5,
   "outputs": [
    {
     "name": "stdout",
     "output_type": "stream",
     "text": [
      "(42, 9)\n"
     ]
    }
   ],
   "source": [
    "poly = PolynomialFeatures(include_bias=False)\n",
    "poly.fit(train_input)\n",
    "train_poly = poly.transform(train_input)\n",
    "print(train_poly.shape)"
   ],
   "metadata": {
    "collapsed": false,
    "pycharm": {
     "name": "#%%\n"
    }
   }
  },
  {
   "cell_type": "code",
   "execution_count": 6,
   "outputs": [
    {
     "data": {
      "text/plain": "['x0', 'x1', 'x2', 'x0^2', 'x0 x1', 'x0 x2', 'x1^2', 'x1 x2', 'x2^2']"
     },
     "execution_count": 6,
     "metadata": {},
     "output_type": "execute_result"
    }
   ],
   "source": [
    "poly.get_feature_names()\n",
    "# x0 : 1번째 특성을의미, x0^2 : 1번째 특성의 제곱, x0 x1 : 1번째특성과 2번째 특성의"
   ],
   "metadata": {
    "collapsed": false,
    "pycharm": {
     "name": "#%%\n"
    }
   }
  },
  {
   "cell_type": "code",
   "execution_count": 7,
   "outputs": [],
   "source": [
    "test_poly = poly.transform(test_input)"
   ],
   "metadata": {
    "collapsed": false,
    "pycharm": {
     "name": "#%%\n"
    }
   }
  },
  {
   "cell_type": "code",
   "execution_count": 8,
   "outputs": [
    {
     "name": "stdout",
     "output_type": "stream",
     "text": [
      "0.9903183436982125\n",
      "0.9714559911594155\n"
     ]
    }
   ],
   "source": [
    "from sklearn.linear_model import LinearRegression\n",
    "lr = LinearRegression()\n",
    "lr.fit(train_poly, train_target)\n",
    "print(lr.score(train_poly, train_target))\n",
    "print(lr.score(test_poly, test_target))"
   ],
   "metadata": {
    "collapsed": false,
    "pycharm": {
     "name": "#%%\n"
    }
   }
  },
  {
   "cell_type": "code",
   "execution_count": 9,
   "outputs": [
    {
     "name": "stdout",
     "output_type": "stream",
     "text": [
      "(42, 55)\n"
     ]
    }
   ],
   "source": [
    "poly = PolynomialFeatures(degree=5, include_bias=False)\n",
    "poly.fit(train_input)\n",
    "train_poly = poly.transform(train_input)\n",
    "test_poly = poly.transform(test_input)\n",
    "print(train_poly.shape)"
   ],
   "metadata": {
    "collapsed": false,
    "pycharm": {
     "name": "#%%\n"
    }
   }
  },
  {
   "cell_type": "code",
   "execution_count": 10,
   "outputs": [
    {
     "name": "stdout",
     "output_type": "stream",
     "text": [
      "0.9999999999938143\n"
     ]
    }
   ],
   "source": [
    "lr.fit(train_poly, train_target)\n",
    "print(lr.score(train_poly,train_target))"
   ],
   "metadata": {
    "collapsed": false,
    "pycharm": {
     "name": "#%%\n"
    }
   }
  },
  {
   "cell_type": "code",
   "execution_count": 12,
   "outputs": [
    {
     "name": "stdout",
     "output_type": "stream",
     "text": [
      "-144.40744533753661\n"
     ]
    }
   ],
   "source": [
    "print(lr.score(test_poly, test_target))\n",
    "# 특성의 개수를 크게 늘리면 선형 모델은 강력해지지만, 훈련세트에 과대적합되므로 테스트 세트에서는 점수가 형편없다."
   ],
   "metadata": {
    "collapsed": false,
    "pycharm": {
     "name": "#%%\n"
    }
   }
  },
  {
   "cell_type": "markdown",
   "source": [
    "# 규제(Regularization)\n",
    "### 모델이 훈련세트에 과대적합되지 않도록 만드는 것\n",
    "선형 회귀 모델에서는 특성에 곱해지는 계수(또는 기울기)의 크기를 작게 만드는 일\n",
    "\n",
    "규제를 적용하기 전에 먼저 정규화를 해야한다.\n",
    "### StandardScaler 클래스를 이용하여 정규"
   ],
   "metadata": {
    "collapsed": false,
    "pycharm": {
     "name": "#%% md\n"
    }
   }
  },
  {
   "cell_type": "code",
   "execution_count": 13,
   "outputs": [],
   "source": [
    "from sklearn.preprocessing import StandardScaler\n",
    "ss = StandardScaler()\n",
    "ss.fit(train_poly)\n",
    "train_scaled = ss.transform(train_poly)\n",
    "test_scaled = ss.transform(test_poly)"
   ],
   "metadata": {
    "collapsed": false,
    "pycharm": {
     "name": "#%%\n"
    }
   }
  },
  {
   "cell_type": "markdown",
   "source": [
    "훈련세트에서 학습한 평균과 표준편차는 StandardScaler 클래스 객체의 mean_, scale_ 속성에 저장된다.\n",
    "특성마다 계산하므로 55개의 평균과 표준편차가 들어있다."
   ],
   "metadata": {
    "collapsed": false,
    "pycharm": {
     "name": "#%% md\n"
    }
   }
  },
  {
   "cell_type": "markdown",
   "source": [
    "선형회귀 모델에 규제를 추가한 모델을 릿지(ridge)와 라쏘(lasso)라고 부른다.\n",
    "\n",
    "### 릿지\n",
    "- 계수를 제곱한 값을 기준으로 규제 적용\n",
    "\n",
    "### 라쏘\n",
    "- 계수의 절대값을 기준으로 규제 적용"
   ],
   "metadata": {
    "collapsed": false,
    "pycharm": {
     "name": "#%% md\n"
    }
   }
  },
  {
   "cell_type": "markdown",
   "source": [
    "## 릿지 회귀"
   ],
   "metadata": {
    "collapsed": false,
    "pycharm": {
     "name": "#%% md\n"
    }
   }
  },
  {
   "cell_type": "code",
   "execution_count": 14,
   "outputs": [
    {
     "name": "stdout",
     "output_type": "stream",
     "text": [
      "0.9896101671037343\n"
     ]
    }
   ],
   "source": [
    "from sklearn.linear_model import Ridge\n",
    "ridge = Ridge()\n",
    "ridge.fit(train_scaled, train_target)\n",
    "print(ridge.score(train_scaled, train_target))"
   ],
   "metadata": {
    "collapsed": false,
    "pycharm": {
     "name": "#%%\n"
    }
   }
  },
  {
   "cell_type": "code",
   "execution_count": 15,
   "outputs": [
    {
     "name": "stdout",
     "output_type": "stream",
     "text": [
      "0.9790693977615386\n"
     ]
    }
   ],
   "source": [
    "print(ridge.score(test_scaled, test_target))"
   ],
   "metadata": {
    "collapsed": false,
    "pycharm": {
     "name": "#%%\n"
    }
   }
  },
  {
   "cell_type": "markdown",
   "source": [
    "릿지와 라쏘 모델을 사용할 때 규제의 양을 임의로 조절할 수 있다.\n",
    "\n",
    "모델 객체를 만들 때 alpha 매개변수로 규제의 강도조절\n",
    "\n",
    "alpha값이 크면 규제강도가 세지므로 계수값을 줄이고 과소적합되도록 유도\n",
    "\n",
    "alpha값이 작으면 규제강도가 약해져 계수값 줄이는 역할이 줄어들어 선형회귀 모델과 유사해지므로 과대적합될 가능성이 크다.\n",
    "\n",
    "** alpha값은 사전에 사람이 지정해야한다. == 하이퍼파라미터라고 부른다.\n",
    "\n",
    "적절한 alpha값을 찾는 한가지 방법은 alpha값에 대한 R^2값의 그래프를 그려보는것"
   ],
   "metadata": {
    "collapsed": false,
    "pycharm": {
     "name": "#%% md\n"
    }
   }
  },
  {
   "cell_type": "markdown",
   "source": [
    "### matplotlib을 통한 alpha값에 대한 R^2그래프"
   ],
   "metadata": {
    "collapsed": false,
    "pycharm": {
     "name": "#%% md\n"
    }
   }
  },
  {
   "cell_type": "code",
   "execution_count": 16,
   "outputs": [],
   "source": [
    "import matplotlib.pyplot as plt\n",
    "train_score = []\n",
    "test_score = []"
   ],
   "metadata": {
    "collapsed": false,
    "pycharm": {
     "name": "#%%\n"
    }
   }
  },
  {
   "cell_type": "code",
   "execution_count": 17,
   "outputs": [],
   "source": [
    "# alpha값을 0.001에서 100까지 10배씩 늘려가며 릿지 회귀 모델을 훈련하고 훈련세트와 테트 세트의 점수를 파이썬 리스트에 저장\n",
    "alpha_list = [0.001, 0.01, 0.1, 1, 10, 100]\n",
    "for alpha in alpha_list:\n",
    "    ridge = Ridge(alpha=alpha)\n",
    "    ridge.fit(train_scaled, train_target)\n",
    "    train_score.append(ridge.score(train_scaled, train_target))\n",
    "    test_score.append(ridge.score(test_scaled, test_target))"
   ],
   "metadata": {
    "collapsed": false,
    "pycharm": {
     "name": "#%%\n"
    }
   }
  },
  {
   "cell_type": "markdown",
   "source": [
    "alpha_list에 있는 6개의 값을 동일한 간격으로 나타내기 위해 로그 함수로 바꾼다."
   ],
   "metadata": {
    "collapsed": false,
    "pycharm": {
     "name": "#%% md\n"
    }
   }
  },
  {
   "cell_type": "code",
   "execution_count": 18,
   "outputs": [
    {
     "data": {
      "text/plain": "<Figure size 432x288 with 1 Axes>",
      "image/png": "[encoded data removed]"
     },
     "metadata": {
      "needs_background": "light"
     },
     "output_type": "display_data"
    }
   ],
   "source": [
    "plt.plot(np.log10(alpha_list), train_score)\n",
    "plt.plot(np.log10(alpha_list), test_score)\n",
    "plt.xlabel('alpha')\n",
    "plt.ylabel('R^2')\n",
    "plt.show()"
   ],
   "metadata": {
    "collapsed": false,
    "pycharm": {
     "name": "#%%\n"
    }
   }
  },
  {
   "cell_type": "markdown",
   "source": [
    "그래프에서 보면 알 수 있듯 두 그래프가 가장 가깝고 테스트 세트의 점수가 가장 높은 log10(-1)부분 즉, 0.1이다.\n",
    "\n",
    "alpha값을 0.1로 하여 최종 모델 훈련"
   ],
   "metadata": {
    "collapsed": false,
    "pycharm": {
     "name": "#%% md\n"
    }
   }
  },
  {
   "cell_type": "code",
   "execution_count": 19,
   "outputs": [
    {
     "name": "stdout",
     "output_type": "stream",
     "text": [
      "0.9903815817570368\n",
      "0.9827976465386984\n"
     ]
    }
   ],
   "source": [
    "ridge = Ridge(alpha=0.1)\n",
    "ridge.fit(train_scaled, train_target)\n",
    "print(ridge.score(train_scaled, train_target))\n",
    "print(ridge.score(test_scaled, test_target))"
   ],
   "metadata": {
    "collapsed": false,
    "pycharm": {
     "name": "#%%\n"
    }
   }
  },
  {
   "cell_type": "markdown",
   "source": [
    "### 라쏘 회귀"
   ],
   "metadata": {
    "collapsed": false,
    "pycharm": {
     "name": "#%% md\n"
    }
   }
  },
  {
   "cell_type": "code",
   "execution_count": 20,
   "outputs": [
    {
     "name": "stdout",
     "output_type": "stream",
     "text": [
      "0.989789897208096\n"
     ]
    }
   ],
   "source": [
    "from sklearn.linear_model import Lasso\n",
    "lasso = Lasso()\n",
    "lasso.fit(train_scaled, train_target)\n",
    "print(lasso.score(train_scaled, train_target))"
   ],
   "metadata": {
    "collapsed": false,
    "pycharm": {
     "name": "#%%\n"
    }
   }
  },
  {
   "cell_type": "code",
   "execution_count": 21,
   "outputs": [
    {
     "name": "stdout",
     "output_type": "stream",
     "text": [
      "0.9800593698421886\n"
     ]
    }
   ],
   "source": [
    "print(lasso.score(test_scaled, test_target))"
   ],
   "metadata": {
    "collapsed": false,
    "pycharm": {
     "name": "#%%\n"
    }
   }
  },
  {
   "cell_type": "markdown",
   "source": [
    "라쏘회귀도 똑같이 alpha값을 바꿔가면서 점수 계산"
   ],
   "metadata": {
    "collapsed": false,
    "pycharm": {
     "name": "#%% md\n"
    }
   }
  },
  {
   "cell_type": "code",
   "execution_count": 23,
   "outputs": [
    {
     "name": "stderr",
     "output_type": "stream",
     "text": [
      "/Users/yonghyunpark/opt/anaconda3/envs/deeplearning/lib/python3.7/site-packages/sklearn/linear_model/_coordinate_descent.py:532: ConvergenceWarning: Objective did not converge. You might want to increase the number of iterations. Duality gap: 18778.697957794062, tolerance: 518.2793833333334\n",
      "  positive)\n",
      "/Users/yonghyunpark/opt/anaconda3/envs/deeplearning/lib/python3.7/site-packages/sklearn/linear_model/_coordinate_descent.py:532: ConvergenceWarning: Objective did not converge. You might want to increase the number of iterations. Duality gap: 12972.821345401813, tolerance: 518.2793833333334\n",
      "  positive)\n"
     ]
    }
   ],
   "source": [
    "train_score = []\n",
    "test_score = []\n",
    "alpha_list = [0.001, 0.01, 0.1, 1, 10, 100]\n",
    "for alpha in alpha_list:\n",
    "    lasso = Lasso(alpha=alpha, max_iter=10000)\n",
    "\n",
    "    lasso.fit(train_scaled, train_target)\n",
    "    train_score.append(lasso.score(train_scaled,train_target))\n",
    "    test_score.append(lasso.score(test_scaled, test_target))"
   ],
   "metadata": {
    "collapsed": false,
    "pycharm": {
     "name": "#%%\n"
    }
   }
  },
  {
   "cell_type": "code",
   "execution_count": 24,
   "outputs": [
    {
     "data": {
      "text/plain": "<Figure size 432x288 with 1 Axes>",
      "image/png": "[encoded data removed]"
     },
     "metadata": {
      "needs_background": "light"
     },
     "output_type": "display_data"
    }
   ],
   "source": [
    "plt.plot(np.log10(alpha_list), train_score)\n",
    "plt.plot(np.log10(alpha_list), test_score)\n",
    "plt.xlabel('alpha')\n",
    "plt.ylabel('R^2')\n",
    "plt.show()"
   ],
   "metadata": {
    "collapsed": false,
    "pycharm": {
     "name": "#%%\n"
    }
   }
  },
  {
   "cell_type": "markdown",
   "source": [
    "라쏘 모델에서는 최적 alpha값은 1, 즉 10^1 = 10"
   ],
   "metadata": {
    "collapsed": false,
    "pycharm": {
     "name": "#%% md\n"
    }
   }
  },
  {
   "cell_type": "code",
   "execution_count": 25,
   "outputs": [
    {
     "name": "stdout",
     "output_type": "stream",
     "text": [
      "0.9888067471131866\n",
      "0.9824470598706695\n"
     ]
    }
   ],
   "source": [
    "lasso = Lasso(alpha=10)\n",
    "lasso.fit(train_scaled, train_target)\n",
    "print(lasso.score(train_scaled, train_target))\n",
    "print(lasso.score(test_scaled, test_target))"
   ],
   "metadata": {
    "collapsed": false,
    "pycharm": {
     "name": "#%%\n"
    }
   }
  },
  {
   "cell_type": "markdown",
   "source": [
    "### 라쏘 모델은 계수 값을 아예 0으로 만들 수 있는데 그 계수들은 coef_ 속성에 저장되어 있다.\n",
    "### 0인것을 세보면"
   ],
   "metadata": {
    "collapsed": false,
    "pycharm": {
     "name": "#%% md\n"
    }
   }
  },
  {
   "cell_type": "code",
   "execution_count": 27,
   "outputs": [
    {
     "name": "stdout",
     "output_type": "stream",
     "text": [
      "40\n"
     ]
    }
   ],
   "source": [
    "print(np.sum(lasso.coef_==0))\n",
    "# np.sum()함수는 배열을 모두 더한 값을 반환한다.\n",
    "# 넘파이 배열에 비교연산자를 사용했을 때 np.sum()함수에서는 True를 1로 False를 0으로 인식하여 덧셈을 하기 때문에 마치 비교연산자에 맞는 원소 개수를 세는 효과\n",
    "# 여기서는 계수값 0을 찾으라고 햇으므로 40개가 있다는 것을 알 수 있다."
   ],
   "metadata": {
    "collapsed": false,
    "pycharm": {
     "name": "#%%\n"
    }
   }
  },
  {
   "cell_type": "code",
   "execution_count": null,
   "outputs": [],
   "source": [],
   "metadata": {
    "collapsed": false,
    "pycharm": {
     "name": "#%%\n"
    }
   }
  }
 ],
 "metadata": {
  "kernelspec": {
   "display_name": "Python 3",
   "language": "python",
   "name": "python3"
  },
  "language_info": {
   "codemirror_mode": {
    "name": "ipython",
    "version": 2
   },
   "file_extension": ".py",
   "mimetype": "text/x-python",
   "name": "python",
   "nbconvert_exporter": "python",
   "pygments_lexer": "ipython2",
   "version": "2.7.6"
  }
 },
 "nbformat": 4,
 "nbformat_minor": 0
}